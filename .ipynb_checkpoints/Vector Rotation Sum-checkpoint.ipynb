{
 "cells": [
  {
   "cell_type": "code",
   "execution_count": 3,
   "metadata": {},
   "outputs": [],
   "source": [
    "%%capture\n",
    "# Code seed from ali_m https://stackoverflow.com/a/19338495\n",
    "# Final version is heavily modified\n",
    "\n",
    "import numpy as np\n",
    "from matplotlib import pyplot as plt\n",
    "from matplotlib import animation\n",
    "from IPython.display import HTML\n",
    "%matplotlib notebook\n",
    "\n",
    "\n",
    "Offset = np.pi/2   #angular offset in radians\n",
    "Mag = 0.5          #Vector magnitude\n",
    "Rate = 0.1         #Rotation rate in terms of radians per update\n",
    "\n",
    "X1 = Mag * np.cos(Offset) #Defines starting x coordinate\n",
    "Y1 = Mag * np.sin(Offset) #ditto y\n",
    "\n",
    "fig, ax = plt.subplots(1,1)\n",
    "Q = ax.quiver(0, 0, X1, Y1, color='r',units='x',scale=1/Mag)   \n",
    "R = ax.quiver(X1, Y1, 2*X1, 2*Y1, color='b',units='x',scale=1/Mag)\n",
    "S = ax.quiver(0, 0, 2*X1, 2*Y1, color='g',units='x',scale=1/Mag)\n",
    "# quivers are basically vectors\n",
    "# the first four arguments are the x,y coordinates of the start \n",
    "# and the x,y coordinates of the end\n",
    "# scale = 1/Mag ensures that they show up as the size we'd expect.  Yes, smaller scale numbers means longer vectors.\n",
    "\n",
    "\n",
    "ax.set_xlim(-1.2*Mag, 1.2*Mag)\n",
    "ax.set_ylim(-1.2*Mag, 1.2*Mag)\n",
    "ax.set_aspect('equal')\n",
    "ax.set_title('Summing Rotating Vectors')\n",
    "\n",
    "def update_quiver(num, Q, R,S):\n",
    "    \"\"\"updates the horizontal and vertical vector components by a\n",
    "    fixed increment on each frame\n",
    "    \"\"\"\n",
    "\n",
    "    X1 = Mag*np.cos(num*Rate + Offset)\n",
    "    Y1 = Mag*np.sin(num*Rate + Offset)\n",
    "        #red vector rotates clockwise\n",
    "    \n",
    "    X2 = Mag*np.cos(-1*num*Rate + Offset)\n",
    "    Y2 = Mag*np.sin(-1*num*Rate + Offset)\n",
    "        #blue vector rotates counterclockwise\n",
    "    \n",
    "\n",
    "    Q.set_UVC(X1,Y1)\n",
    "        #red vector has the end coordinates updated\n",
    "    R.set_UVC(X2,Y2)\n",
    "        #blue vector has the end coordinates updated\n",
    "    R.set_offsets([Mag*X1,Mag*Y1])\n",
    "        #blue vector is moved to the tip of the red vector\n",
    "    S.set_UVC(X1+X2,Y1+Y2)\n",
    "        #gree vector is the sum of the other two\n",
    "    return Q,R,S\n",
    "\n",
    "\n",
    "anim = animation.FuncAnimation(fig, update_quiver, fargs=(Q, R,S),interval=50)\n",
    "fig.tight_layout()\n",
    "HTML(anim.to_jshtml())"
   ]
  },
  {
   "cell_type": "code",
   "execution_count": null,
   "metadata": {},
   "outputs": [],
   "source": [
    "HTML(anim.to_jshtml())"
   ]
  }
 ],
 "metadata": {
  "kernelspec": {
   "display_name": "Python 3",
   "language": "python",
   "name": "python3"
  },
  "language_info": {
   "codemirror_mode": {
    "name": "ipython",
    "version": 3
   },
   "file_extension": ".py",
   "mimetype": "text/x-python",
   "name": "python",
   "nbconvert_exporter": "python",
   "pygments_lexer": "ipython3",
   "version": "3.7.8"
  }
 },
 "nbformat": 4,
 "nbformat_minor": 2
}
