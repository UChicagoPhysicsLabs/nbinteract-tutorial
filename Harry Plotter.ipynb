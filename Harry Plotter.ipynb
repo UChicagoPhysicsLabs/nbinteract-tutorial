{
 "cells": [
  {
   "cell_type": "code",
   "execution_count": 3,
   "metadata": {},
   "outputs": [],
   "source": [
    "import ipywidgets as widgets\n",
    "from ipywidgets import Layout\n",
    "import numpy as np\n",
    "import matplotlib.pyplot as plt\n",
    "import IPython\n",
    "import warnings\n",
    "warnings.filterwarnings('ignore')"
   ]
  },
  {
   "cell_type": "code",
   "execution_count": 4,
   "metadata": {},
   "outputs": [],
   "source": [
    "%matplotlib inline"
   ]
  },
  {
   "cell_type": "code",
   "execution_count": 5,
   "metadata": {},
   "outputs": [],
   "source": [
    "class hist_handler():\n",
    "    def __init__(self):\n",
    "        self.points = [1,2,3,3]\n",
    "              \n",
    "        self.clear_points_button = widgets.Button(description = \"Clear\")\n",
    "        self.clear_points_button.on_click(self.clear_pressed)\n",
    "        \n",
    "        self.new_point = widgets.Text()\n",
    "        self.new_point.on_submit(self.button_press)\n",
    "        \n",
    "        self.list_output = widgets.Label()\n",
    "\n",
    "        self.out = widgets.Output()\n",
    "        with self.out:\n",
    "          self.fig,self.ax = plt.subplots()\n",
    "          #self.plot, = self.ax.plot(self.points,marker='o')\n",
    "          self.plot = self.ax.hist(self.points, bins='auto');\n",
    "          plt.close() #Otherwise we get double plots\n",
    "\n",
    "        \n",
    "    def button_press(self,*args):\n",
    "        self.add_point()        \n",
    "    def add_point(self):\n",
    "        try:\n",
    "            new_value = float(self.new_point.value)\n",
    "            self.points.append(new_value)\n",
    "            self.new_point.value = \"\"\n",
    "        except:\n",
    "            pass\n",
    "        self.list_points()\n",
    "        self.set_points()\n",
    "        \n",
    "    def clear_pressed(self,*args):\n",
    "        self.clear_points()        \n",
    "    def clear_points(self):\n",
    "        self.points = []\n",
    "        self.list_points()\n",
    "        self.set_points()        \n",
    "\n",
    "    def list_points(self):\n",
    "        self.list_output.value = str(self.points)\n",
    "        \n",
    "    def set_points(self):\n",
    "      self.out.clear_output()\n",
    "      with self.out:\n",
    "        self.fig,self.ax = plt.subplots(figsize = (7,7))\n",
    "        #self.plot.set_data(np.arange(0,len(self.points)),np.array(self.points))\n",
    "        #self.ax.clear()\n",
    "        #self.plot = self.ax.hist(self.points, bins='auto');\n",
    "        foo = self.ax.hist(self.points, bins='auto');\n",
    "        mean = np.mean(self.points)\n",
    "        std = np.std(self.points)\n",
    "        #std_err = std/(len(self.points)+1)\n",
    "        self.ax.axvline(mean, label='Average Value = {:0.2f}'.format(mean), color = 'r')\n",
    "        self.ax.axvline(mean + std ,ls='--', color = 'r')\n",
    "        self.ax.axvline(mean - std ,label = \"Standard Deviation = {:0.2f}\".format(std),ls='--', color = 'r')\n",
    "        self.ax.legend()\n",
    "        IPython.display.display(self.fig)\n",
    "        plt.close()\n",
    "               "
   ]
  },
  {
   "cell_type": "code",
   "execution_count": 6,
   "metadata": {},
   "outputs": [
    {
     "data": {
      "application/vnd.jupyter.widget-view+json": {
       "model_id": "03fcf8a1270942ff88a6e0464cbf6731",
       "version_major": 2,
       "version_minor": 0
      },
      "text/plain": [
       "Label(value='')"
      ]
     },
     "metadata": {},
     "output_type": "display_data"
    },
    {
     "data": {
      "application/vnd.jupyter.widget-view+json": {
       "model_id": "057484bc86294553b1b5422bc67498eb",
       "version_major": 2,
       "version_minor": 0
      },
      "text/plain": [
       "Text(value='')"
      ]
     },
     "metadata": {},
     "output_type": "display_data"
    },
    {
     "data": {
      "application/vnd.jupyter.widget-view+json": {
       "model_id": "f70570afe1a04a0a85a19b2846ef3653",
       "version_major": 2,
       "version_minor": 0
      },
      "text/plain": [
       "Button(description='Clear', style=ButtonStyle())"
      ]
     },
     "metadata": {},
     "output_type": "display_data"
    },
    {
     "data": {
      "application/vnd.jupyter.widget-view+json": {
       "model_id": "8ab89021800f4faf9661612b92d4c122",
       "version_major": 2,
       "version_minor": 0
      },
      "text/plain": [
       "Output()"
      ]
     },
     "metadata": {},
     "output_type": "display_data"
    }
   ],
   "source": [
    "from IPython.display import Image\n",
    "\n",
    "handler = hist_handler()\n",
    "display(handler.list_output)\n",
    "display(handler.new_point)\n",
    "display(handler.clear_points_button)  \n",
    "display(handler.out)\n",
    "\n",
    "handler.set_points()"
   ]
  },
  {
   "cell_type": "code",
   "execution_count": null,
   "metadata": {},
   "outputs": [],
   "source": []
  }
 ],
 "metadata": {
  "kernelspec": {
   "display_name": "Python 3",
   "language": "python",
   "name": "python3"
  },
  "language_info": {
   "codemirror_mode": {
    "name": "ipython",
    "version": 3
   },
   "file_extension": ".py",
   "mimetype": "text/x-python",
   "name": "python",
   "nbconvert_exporter": "python",
   "pygments_lexer": "ipython3",
   "version": "3.7.8"
  }
 },
 "nbformat": 4,
 "nbformat_minor": 4
}
