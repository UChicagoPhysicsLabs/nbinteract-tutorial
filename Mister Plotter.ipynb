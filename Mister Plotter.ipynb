{
 "cells": [
  {
   "cell_type": "code",
   "execution_count": null,
   "metadata": {},
   "outputs": [],
   "source": [
    "import ipywidgets as widgets\n",
    "from ipywidgets import Layout\n",
    "import numpy as np\n",
    "import matplotlib.pyplot as plt\n",
    "import warnings\n",
    "warnings.filterwarnings('ignore')"
   ]
  },
  {
   "cell_type": "code",
   "execution_count": null,
   "metadata": {},
   "outputs": [],
   "source": [
    "%matplotlib notebook"
   ]
  },
  {
   "cell_type": "code",
   "execution_count": 8,
   "metadata": {
    "scrolled": true
   },
   "outputs": [],
   "source": [
    "\n",
    "class hist_handler():\n",
    "    def __init__(self):\n",
    "        self.points = []\n",
    "        \n",
    "        \n",
    "        self.clear_points_button = widgets.Button(description = \"Clear\")\n",
    "        self.clear_points_button.on_click(self.clear_pressed)\n",
    "        \n",
    "        self.new_point = widgets.Text()\n",
    "        self.new_point.on_submit(self.button_press)\n",
    "        \n",
    "        self.list_output = widgets.Label()\n",
    "        self.display_window = widgets.Output()\n",
    "        with self.display_window:\n",
    "            self.fig,self.ax = plt.subplots(figsize=(6,6))\n",
    "            #self.plot, = self.ax.plot(self.points,marker='o')\n",
    "            self.plot = self.ax.hist(self.points, bins='auto')\n",
    "        #self.redraw_plot()\n",
    "        \n",
    "       \n",
    "\n",
    "        \n",
    "    def button_press(self,*args):\n",
    "        self.add_point()        \n",
    "    def add_point(self):\n",
    "        try:\n",
    "            new_value = float(self.new_point.value)\n",
    "            self.points.append(new_value)\n",
    "            self.new_point.value = \"\"\n",
    "        except:\n",
    "            pass\n",
    "        self.list_points()\n",
    "        self.set_points()\n",
    "        \n",
    "    def clear_pressed(self,*args):\n",
    "        self.clear_points()        \n",
    "    def clear_points(self):\n",
    "        self.points = []\n",
    "        self.list_points()\n",
    "        self.set_points()        \n",
    "\n",
    "    def list_points(self):\n",
    "        self.list_output.value = str(self.points)\n",
    "        \n",
    "    def set_points(self):\n",
    "        #self.plot.set_data(np.arange(0,len(self.points)),np.array(self.points))\n",
    "        self.ax.clear()\n",
    "        try:\n",
    "            with self.display_window:\n",
    "                self.plot = self.ax.hist(self.points, bins='auto')\n",
    "                mean = np.mean(self.points)\n",
    "                std = np.std(self.points)\n",
    "                #std_err = std/(len(self.points)+1)\n",
    "                self.ax.axvline(mean, label='Average Value = {:0.2f}'.format(mean), color = 'r')\n",
    "                #self.ax.axvline(mean + std ,label = 'Average $\\pm$ Standard Deviation',ls='--', color = 'r')\n",
    "                self.ax.axvline(mean + std ,ls='--', color = 'r')\n",
    "                self.ax.axvline(mean - std ,label = \"Standard Deviation = {:0.2f}\".format(std),ls='--', color = 'r')\n",
    "                self.ax.legend()\n",
    "                self.fig.canvas.draw_idle()\n",
    "                plt.show(self.fig)\n",
    "        except:\n",
    "            pass\n"
   ]
  },
  {
   "cell_type": "code",
   "execution_count": 9,
   "metadata": {
    "scrolled": false
   },
   "outputs": [
    {
     "data": {
      "application/vnd.jupyter.widget-view+json": {
       "model_id": "3cdce2dabe0b4ad7b4352a18eb73f931",
       "version_major": 2,
       "version_minor": 0
      },
      "text/plain": [
       "Output()"
      ]
     },
     "metadata": {},
     "output_type": "display_data"
    },
    {
     "data": {
      "application/vnd.jupyter.widget-view+json": {
       "model_id": "e12033ad2ad64de294db426b149152a5",
       "version_major": 2,
       "version_minor": 0
      },
      "text/plain": [
       "Label(value='')"
      ]
     },
     "metadata": {},
     "output_type": "display_data"
    },
    {
     "data": {
      "application/vnd.jupyter.widget-view+json": {
       "model_id": "1f818fb1ae8d424c8deda6f36932bd35",
       "version_major": 2,
       "version_minor": 0
      },
      "text/plain": [
       "Text(value='')"
      ]
     },
     "metadata": {},
     "output_type": "display_data"
    },
    {
     "data": {
      "application/vnd.jupyter.widget-view+json": {
       "model_id": "e0d19a638af343229a50686a3e9355cc",
       "version_major": 2,
       "version_minor": 0
      },
      "text/plain": [
       "Button(description='Clear', style=ButtonStyle())"
      ]
     },
     "metadata": {},
     "output_type": "display_data"
    }
   ],
   "source": [
    "handler = hist_handler()\n",
    "\n",
    "plt.ion()\n",
    "\n",
    "display(handler.display_window)\n",
    "display(handler.list_output)\n",
    "display(handler.new_point)\n",
    "display(handler.clear_points_button)  \n",
    "\n",
    "handler.set_points()\n",
    "plt.show()\n"
   ]
  },
  {
   "cell_type": "code",
   "execution_count": 1,
   "metadata": {},
   "outputs": [
    {
     "data": {
      "application/vnd.jupyter.widget-view+json": {
       "model_id": "29356c61ffe7442e8ddfef2ff1c92d6f",
       "version_major": 2,
       "version_minor": 0
      },
      "text/plain": [
       "Tab(children=(Output(), Output()), _titles={'0': 'First', '1': 'Second'})"
      ]
     },
     "metadata": {},
     "output_type": "display_data"
    }
   ],
   "source": [
    "%matplotlib inline\n",
    "import matplotlib.pyplot as plt\n",
    "import pandas as pd\n",
    "import ipywidgets as widgets\n",
    "import numpy as np\n",
    "\n",
    "out1 = widgets.Output()\n",
    "out2 = widgets.Output()\n",
    "data1 = pd.DataFrame(np.random.normal(size = 50))\n",
    "data2 = pd.DataFrame(np.random.normal(size = 100))\n",
    "\n",
    "tab = widgets.Tab(children = [out1, out2])\n",
    "tab.set_title(0, 'First')\n",
    "tab.set_title(1, 'Second')\n",
    "display(tab)\n",
    "\n",
    "with out1:\n",
    "    fig1, axes1 = plt.subplots()\n",
    "    data1.hist(ax = axes1)\n",
    "    plt.show(fig1)\n",
    "\n",
    "with out2:\n",
    "    fig2, axes2 = plt.subplots()\n",
    "    data2.hist(ax = axes2)\n",
    "    plt.show(fig2)"
   ]
  },
  {
   "cell_type": "code",
   "execution_count": null,
   "metadata": {},
   "outputs": [],
   "source": []
  }
 ],
 "metadata": {
  "kernelspec": {
   "display_name": "Python 3",
   "language": "python",
   "name": "python3"
  },
  "language_info": {
   "codemirror_mode": {
    "name": "ipython",
    "version": 3
   },
   "file_extension": ".py",
   "mimetype": "text/x-python",
   "name": "python",
   "nbconvert_exporter": "python",
   "pygments_lexer": "ipython3",
   "version": "3.7.8"
  },
  "widgets": {
   "application/vnd.jupyter.widget-state+json": {
    "state": {
     "0091ce37a2ec44a49646f8093115c78d": {
      "model_module": "@jupyter-widgets/base",
      "model_module_version": "1.2.0",
      "model_name": "LayoutModel",
      "state": {}
     },
     "012e6da59a6a4f9885e545aae020a792": {
      "model_module": "@jupyter-widgets/base",
      "model_module_version": "1.2.0",
      "model_name": "LayoutModel",
      "state": {}
     },
     "035124e22b5646bf8ebbbd9b79fcbf62": {
      "model_module": "@jupyter-widgets/controls",
      "model_module_version": "1.5.0",
      "model_name": "ButtonModel",
      "state": {
       "description": "Clear",
       "layout": "IPY_MODEL_25fe05277c8b4c6682c68b4bbb618171",
       "style": "IPY_MODEL_650171e0402849ff9bd7e18f95d5755b"
      }
     },
     "25fe05277c8b4c6682c68b4bbb618171": {
      "model_module": "@jupyter-widgets/base",
      "model_module_version": "1.2.0",
      "model_name": "LayoutModel",
      "state": {}
     },
     "355310552bf54efbbf0e6c4a52439f0e": {
      "model_module": "@jupyter-widgets/base",
      "model_module_version": "1.2.0",
      "model_name": "LayoutModel",
      "state": {}
     },
     "391b7aab2bda48a6b4269c12ad735975": {
      "model_module": "@jupyter-widgets/base",
      "model_module_version": "1.2.0",
      "model_name": "LayoutModel",
      "state": {}
     },
     "3a4fcb32df194dbb80ab4088db5e3ecd": {
      "model_module": "@jupyter-widgets/controls",
      "model_module_version": "1.5.0",
      "model_name": "TextModel",
      "state": {
       "layout": "IPY_MODEL_6e43a990adfb4f78a38e84aa728819cf",
       "style": "IPY_MODEL_d83bcc92d14e42428214ef2db7ac82d8"
      }
     },
     "3fa566d7c1724253b32af4a99b56acd1": {
      "model_module": "@jupyter-widgets/base",
      "model_module_version": "1.2.0",
      "model_name": "LayoutModel",
      "state": {}
     },
     "4195d38d091f49809444f6a6fd765850": {
      "model_module": "@jupyter-widgets/controls",
      "model_module_version": "1.5.0",
      "model_name": "DescriptionStyleModel",
      "state": {
       "description_width": ""
      }
     },
     "443bb4c5284440798c0110afe7637230": {
      "model_module": "@jupyter-widgets/controls",
      "model_module_version": "1.5.0",
      "model_name": "DescriptionStyleModel",
      "state": {
       "description_width": ""
      }
     },
     "48d0a69156e749fea0012506e0b08584": {
      "model_module": "@jupyter-widgets/controls",
      "model_module_version": "1.5.0",
      "model_name": "LabelModel",
      "state": {
       "layout": "IPY_MODEL_0091ce37a2ec44a49646f8093115c78d",
       "style": "IPY_MODEL_4195d38d091f49809444f6a6fd765850"
      }
     },
     "4b8de2e56be54076ad6eb838902fe818": {
      "model_module": "@jupyter-widgets/controls",
      "model_module_version": "1.5.0",
      "model_name": "ButtonModel",
      "state": {
       "description": "Clear",
       "layout": "IPY_MODEL_b916164e569643b79b0b7f794b7581be",
       "style": "IPY_MODEL_e1023a99964d4cab95c5e826d7e66acb"
      }
     },
     "5b79aa713a5e4b959ca894d1da973245": {
      "model_module": "@jupyter-widgets/base",
      "model_module_version": "1.2.0",
      "model_name": "LayoutModel",
      "state": {}
     },
     "6009cf75ab2d423297477f056b7b9bfb": {
      "model_module": "@jupyter-widgets/base",
      "model_module_version": "1.2.0",
      "model_name": "LayoutModel",
      "state": {}
     },
     "650171e0402849ff9bd7e18f95d5755b": {
      "model_module": "@jupyter-widgets/controls",
      "model_module_version": "1.5.0",
      "model_name": "ButtonStyleModel",
      "state": {}
     },
     "687a1de5395e4760a75f2af82d61f919": {
      "model_module": "@jupyter-widgets/controls",
      "model_module_version": "1.5.0",
      "model_name": "DescriptionStyleModel",
      "state": {
       "description_width": ""
      }
     },
     "6e43a990adfb4f78a38e84aa728819cf": {
      "model_module": "@jupyter-widgets/base",
      "model_module_version": "1.2.0",
      "model_name": "LayoutModel",
      "state": {}
     },
     "7419993dd7ce403d87bb0cba35b13a74": {
      "model_module": "@jupyter-widgets/controls",
      "model_module_version": "1.5.0",
      "model_name": "ButtonModel",
      "state": {
       "description": "Clear",
       "layout": "IPY_MODEL_5b79aa713a5e4b959ca894d1da973245",
       "style": "IPY_MODEL_aee664e824f64f02866a32c78942ef51"
      }
     },
     "765453e135c543e1978040be82176f8e": {
      "model_module": "@jupyter-widgets/controls",
      "model_module_version": "1.5.0",
      "model_name": "DescriptionStyleModel",
      "state": {
       "description_width": ""
      }
     },
     "81676492afd745978aff03ee85fdf7fe": {
      "model_module": "@jupyter-widgets/controls",
      "model_module_version": "1.5.0",
      "model_name": "LabelModel",
      "state": {
       "layout": "IPY_MODEL_391b7aab2bda48a6b4269c12ad735975",
       "style": "IPY_MODEL_687a1de5395e4760a75f2af82d61f919"
      }
     },
     "9f2c3483d3e647698dbd25c2ac2c73e5": {
      "model_module": "@jupyter-widgets/controls",
      "model_module_version": "1.5.0",
      "model_name": "DescriptionStyleModel",
      "state": {
       "description_width": ""
      }
     },
     "acb932c7a7244cad939652740bf0396e": {
      "model_module": "@jupyter-widgets/controls",
      "model_module_version": "1.5.0",
      "model_name": "LabelModel",
      "state": {
       "layout": "IPY_MODEL_3fa566d7c1724253b32af4a99b56acd1",
       "style": "IPY_MODEL_d1bb78886cfa4ce0bbf079977dc90a30"
      }
     },
     "aee664e824f64f02866a32c78942ef51": {
      "model_module": "@jupyter-widgets/controls",
      "model_module_version": "1.5.0",
      "model_name": "ButtonStyleModel",
      "state": {}
     },
     "b75a0643b0734d6b855f62860b5f256c": {
      "model_module": "@jupyter-widgets/controls",
      "model_module_version": "1.5.0",
      "model_name": "ButtonStyleModel",
      "state": {}
     },
     "b916164e569643b79b0b7f794b7581be": {
      "model_module": "@jupyter-widgets/base",
      "model_module_version": "1.2.0",
      "model_name": "LayoutModel",
      "state": {}
     },
     "cd6c098f3f1b488d812b1df6f96b1847": {
      "model_module": "@jupyter-widgets/base",
      "model_module_version": "1.2.0",
      "model_name": "LayoutModel",
      "state": {}
     },
     "d1bb78886cfa4ce0bbf079977dc90a30": {
      "model_module": "@jupyter-widgets/controls",
      "model_module_version": "1.5.0",
      "model_name": "DescriptionStyleModel",
      "state": {
       "description_width": ""
      }
     },
     "d39e143dfea5419ab74dc76e0cedd9ae": {
      "model_module": "@jupyter-widgets/controls",
      "model_module_version": "1.5.0",
      "model_name": "DescriptionStyleModel",
      "state": {
       "description_width": ""
      }
     },
     "d660724959d9489d93cbd400af1eecc1": {
      "model_module": "@jupyter-widgets/controls",
      "model_module_version": "1.5.0",
      "model_name": "LabelModel",
      "state": {
       "layout": "IPY_MODEL_cd6c098f3f1b488d812b1df6f96b1847",
       "style": "IPY_MODEL_9f2c3483d3e647698dbd25c2ac2c73e5",
       "value": "[]"
      }
     },
     "d83bcc92d14e42428214ef2db7ac82d8": {
      "model_module": "@jupyter-widgets/controls",
      "model_module_version": "1.5.0",
      "model_name": "DescriptionStyleModel",
      "state": {
       "description_width": ""
      }
     },
     "e1023a99964d4cab95c5e826d7e66acb": {
      "model_module": "@jupyter-widgets/controls",
      "model_module_version": "1.5.0",
      "model_name": "ButtonStyleModel",
      "state": {}
     },
     "f0cf4e78020b4573b580d8d4eee629c8": {
      "model_module": "@jupyter-widgets/controls",
      "model_module_version": "1.5.0",
      "model_name": "ButtonModel",
      "state": {
       "description": "Clear",
       "layout": "IPY_MODEL_f26dd8f08e4b47ee86f4192a0c9d31ab",
       "style": "IPY_MODEL_b75a0643b0734d6b855f62860b5f256c"
      }
     },
     "f26dd8f08e4b47ee86f4192a0c9d31ab": {
      "model_module": "@jupyter-widgets/base",
      "model_module_version": "1.2.0",
      "model_name": "LayoutModel",
      "state": {}
     },
     "f772030eb58747f1a2003f6439c395a2": {
      "model_module": "@jupyter-widgets/controls",
      "model_module_version": "1.5.0",
      "model_name": "TextModel",
      "state": {
       "layout": "IPY_MODEL_6009cf75ab2d423297477f056b7b9bfb",
       "style": "IPY_MODEL_443bb4c5284440798c0110afe7637230"
      }
     },
     "fb5e59866c3e4e8baebc02777cd4db48": {
      "model_module": "@jupyter-widgets/controls",
      "model_module_version": "1.5.0",
      "model_name": "TextModel",
      "state": {
       "layout": "IPY_MODEL_355310552bf54efbbf0e6c4a52439f0e",
       "style": "IPY_MODEL_765453e135c543e1978040be82176f8e"
      }
     },
     "feac9490a5534f918f502bd9a05a60d3": {
      "model_module": "@jupyter-widgets/controls",
      "model_module_version": "1.5.0",
      "model_name": "TextModel",
      "state": {
       "layout": "IPY_MODEL_012e6da59a6a4f9885e545aae020a792",
       "style": "IPY_MODEL_d39e143dfea5419ab74dc76e0cedd9ae"
      }
     }
    },
    "version_major": 2,
    "version_minor": 0
   }
  }
 },
 "nbformat": 4,
 "nbformat_minor": 2
}
